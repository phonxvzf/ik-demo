{
 "cells": [
  {
   "cell_type": "code",
   "execution_count": 195,
   "metadata": {},
   "outputs": [],
   "source": [
    "import numpy as np\n",
    "import random\n",
    "import copy\n",
    "from matplotlib import pyplot as plt"
   ]
  },
  {
   "cell_type": "code",
   "execution_count": 2,
   "metadata": {},
   "outputs": [],
   "source": [
    "def rotate_mat(theta):\n",
    "    return np.array([\n",
    "        [np.cos(theta), -np.sin(theta)],\n",
    "        [np.sin(theta), np.cos(theta)]\n",
    "    ])"
   ]
  },
  {
   "cell_type": "markdown",
   "metadata": {},
   "source": [
    "## Setup joints"
   ]
  },
  {
   "cell_type": "code",
   "execution_count": 224,
   "metadata": {},
   "outputs": [],
   "source": [
    "class Joint:\n",
    "    def __init__(self, rad, length):\n",
    "        self.angle = rad\n",
    "        self.length = length\n",
    "        \n",
    "    def __str__(self):\n",
    "        return 'angle = ' + str(np.degrees(self.angle)) + '°, length = %f' % self.length\n",
    "    \n",
    "    def __len__(self):\n",
    "        return self.length"
   ]
  },
  {
   "cell_type": "code",
   "execution_count": 225,
   "metadata": {},
   "outputs": [],
   "source": [
    "MAX_JOINT_LENGTH = 10\n",
    "N_JOINTS = 5"
   ]
  },
  {
   "cell_type": "code",
   "execution_count": 226,
   "metadata": {},
   "outputs": [],
   "source": [
    "random.seed(0)\n",
    "\n",
    "joints = []\n",
    "\n",
    "for i in range(N_JOINTS):\n",
    "    joints.append(Joint(random.random() * 2 * np.pi, random.random() * MAX_JOINT_LENGTH))"
   ]
  },
  {
   "cell_type": "code",
   "execution_count": 227,
   "metadata": {},
   "outputs": [
    {
     "name": "stdout",
     "output_type": "stream",
     "text": [
      "angle = 303.99186654901735°, length = 7.579544\n",
      "angle = 151.40576909910422°, length = 2.589168\n",
      "angle = 184.05889969269907°, length = 4.049341\n",
      "angle = 282.1674920525181°, length = 3.033127\n",
      "angle = 171.5749034948481°, length = 5.833820\n"
     ]
    }
   ],
   "source": [
    "for joint in joints:\n",
    "    print(joint)"
   ]
  },
  {
   "cell_type": "code",
   "execution_count": 244,
   "metadata": {},
   "outputs": [],
   "source": [
    "def draw_joints(joints, target=None):\n",
    "    end_effector = np.zeros((2,))\n",
    "    \n",
    "    pivots_x = [0]\n",
    "    pivots_y = [0]\n",
    "    for i, joint in enumerate(joints):\n",
    "        end_effector += np.dot(rotate_mat(joint.angle), np.array([1,0])) * joint.length\n",
    "        pivots_x.append(end_effector[0])\n",
    "        pivots_y.append(end_effector[1])\n",
    "        \n",
    "    plt.plot(\n",
    "        pivots_x,\n",
    "        pivots_y,\n",
    "        marker='o',\n",
    "        markerfacecolor='r',\n",
    "        color='black',\n",
    "        linestyle='solid',\n",
    "        linewidth=0.3\n",
    "    )\n",
    "    plt.plot(0, 0, 'bo')\n",
    "    \n",
    "    if target is not None:\n",
    "        plt.vlines(target[0], -15, 15, colors='g', linewidth=0.3)\n",
    "        plt.hlines(target[1], -15, 15, colors='g', linewidth=0.3)\n",
    "    \n",
    "    plt.xlim(-15, 15)\n",
    "    plt.ylim(-15, 15)\n",
    "    plt.show()"
   ]
  },
  {
   "cell_type": "code",
   "execution_count": 245,
   "metadata": {},
   "outputs": [
    {
     "data": {
      "image/png": "[encoded data removed]",
      "text/plain": [
       "<Figure size 432x288 with 1 Axes>"
      ]
     },
     "metadata": {
      "needs_background": "light"
     },
     "output_type": "display_data"
    }
   ],
   "source": [
    "draw_joints(joints)"
   ]
  },
  {
   "cell_type": "markdown",
   "metadata": {},
   "source": [
    "## Jacobian Pseudoinverse"
   ]
  },
  {
   "cell_type": "code",
   "execution_count": 230,
   "metadata": {},
   "outputs": [],
   "source": [
    "# h = DELTA value for partial derivative calculation\n",
    "DELTA = 1e-6\n",
    "\n",
    "# Error tolerance (epsilon)\n",
    "TOLERANCE = 1e-3\n",
    "\n",
    "# Maximum number of iterations\n",
    "MAX_ITERATIONS = 100"
   ]
  },
  {
   "cell_type": "code",
   "execution_count": 231,
   "metadata": {},
   "outputs": [],
   "source": [
    "def partial_derivative(f1, f0, h=DELTA):\n",
    "    return (f1 - f0) / h"
   ]
  },
  {
   "cell_type": "code",
   "execution_count": 232,
   "metadata": {},
   "outputs": [],
   "source": [
    "def jacobian(f, x, h=DELTA, image_dim=2):\n",
    "    J = np.empty((image_dim, len(x)))\n",
    "    for k in range(J.shape[1]):\n",
    "        hv = np.zeros(x.shape)\n",
    "        hv[k] = h\n",
    "        fxh = f(x + hv)\n",
    "        fx = f(x)\n",
    "        for i in range(J.shape[0]):\n",
    "            J[i,k] = partial_derivative(fxh[i], fx[i], h)\n",
    "    return J"
   ]
  },
  {
   "cell_type": "code",
   "execution_count": 236,
   "metadata": {},
   "outputs": [],
   "source": [
    "def f_from_joints(joints, x):\n",
    "    R = np.zeros((2,2))\n",
    "    for i, joint in enumerate(joints):\n",
    "        R += joint.length * rotate_mat(x[i])\n",
    "    return R.dot(np.array([1,0]))"
   ]
  },
  {
   "cell_type": "code",
   "execution_count": 237,
   "metadata": {},
   "outputs": [],
   "source": [
    "def loss(end_effector, target):\n",
    "    dv = target - end_effector\n",
    "    return np.sqrt(dv.dot(dv))"
   ]
  },
  {
   "cell_type": "code",
   "execution_count": 249,
   "metadata": {},
   "outputs": [
    {
     "name": "stdout",
     "output_type": "stream",
     "text": [
      "#0: 7.371494255715373\n",
      "#1: 2.0280741088494385\n",
      "#2: 0.15852298665822945\n",
      "#3: 0.001329169050521289\n",
      "#4: 8.206209637604523e-08\n"
     ]
    }
   ],
   "source": [
    "target = np.array([-13,-12])\n",
    "\n",
    "x0 = np.empty((len(joints),))\n",
    "for i, joint in enumerate(joints):\n",
    "    x0[i] = joint.angle\n",
    "    \n",
    "x = x0.copy()\n",
    "\n",
    "for i in range(MAX_ITERATIONS + 1):\n",
    "    end_effector = f_from_joints(joints, x)\n",
    "    L = loss(end_effector, target)\n",
    "    print('#%d:' % i, L)\n",
    "    if L <= TOLERANCE:\n",
    "        break\n",
    "    diff = target - end_effector\n",
    "    dx = np.linalg.pinv(jacobian(lambda x : f_from_joints(joints, x), x)).dot(diff)\n",
    "    x += dx"
   ]
  },
  {
   "cell_type": "code",
   "execution_count": 250,
   "metadata": {},
   "outputs": [
    {
     "data": {
      "image/png": "[encoded data removed]",
      "text/plain": [
       "<Figure size 432x288 with 1 Axes>"
      ]
     },
     "metadata": {
      "needs_background": "light"
     },
     "output_type": "display_data"
    },
    {
     "data": {
      "image/png": "[encoded data removed]",
      "text/plain": [
       "<Figure size 432x288 with 1 Axes>"
      ]
     },
     "metadata": {
      "needs_background": "light"
     },
     "output_type": "display_data"
    }
   ],
   "source": [
    "solved_joints = copy.deepcopy(joints)\n",
    "for i in range(len(solved_joints)):\n",
    "    solved_joints[i].angle = x[i]\n",
    "    \n",
    "draw_joints(joints, target)\n",
    "draw_joints(solved_joints, target)"
   ]
  },
  {
   "cell_type": "code",
   "execution_count": null,
   "metadata": {},
   "outputs": [],
   "source": []
  }
 ],
 "metadata": {
  "kernelspec": {
   "display_name": "Python 3",
   "language": "python",
   "name": "python3"
  },
  "language_info": {
   "codemirror_mode": {
    "name": "ipython",
    "version": 3
   },
   "file_extension": ".py",
   "mimetype": "text/x-python",
   "name": "python",
   "nbconvert_exporter": "python",
   "pygments_lexer": "ipython3",
   "version": "3.8.5"
  }
 },
 "nbformat": 4,
 "nbformat_minor": 4
}
